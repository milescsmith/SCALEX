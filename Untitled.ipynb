{
 "cells": [
  {
   "cell_type": "code",
   "execution_count": 1,
   "id": "0590ed05-b023-4c06-b0cb-38978a05f08d",
   "metadata": {},
   "outputs": [],
   "source": [
    "import scanpy as sc"
   ]
  },
  {
   "cell_type": "code",
   "execution_count": 4,
   "id": "8776c0c4-8328-4d4a-a2f2-dc6ba1e36bbe",
   "metadata": {},
   "outputs": [],
   "source": [
    "import pandas as pd"
   ]
  },
  {
   "cell_type": "code",
   "execution_count": 2,
   "id": "4fb49061-81c8-462d-ba3c-ed50b4773e03",
   "metadata": {},
   "outputs": [],
   "source": [
    "ad1 = sc.read(\"test/data/scatac_1_prot.h5ad\")"
   ]
  },
  {
   "cell_type": "code",
   "execution_count": 3,
   "id": "cb0f524c-37e7-4675-af5d-322bc131baab",
   "metadata": {},
   "outputs": [
    {
     "data": {
      "text/plain": [
       "AnnData object with n_obs × n_vars = 11379 × 41\n",
       "    obs: 'sample', 'n_genes_by_counts', 'total_counts', 'total_counts_isotype', 'pct_counts_isotype', 'n_counts', 'mIgG1_ctrl percentile', 'mIgG2a_ctrl percentile', 'mIgG2b_ctrl percentile'\n",
       "    var: 'isotype', 'n_cells_by_counts', 'mean_counts', 'pct_dropout_by_counts', 'total_counts'\n",
       "    layers: 'counts'"
      ]
     },
     "execution_count": 3,
     "metadata": {},
     "output_type": "execute_result"
    }
   ],
   "source": [
    "ad1"
   ]
  },
  {
   "cell_type": "code",
   "execution_count": 5,
   "id": "cd972ccf-229a-4ae4-96cc-97ed44ad56f3",
   "metadata": {},
   "outputs": [],
   "source": [
    "def set_obs_column(adata, col_name: str, value: str | pd.Series):\n",
    "    adata.obs[col_name] = value"
   ]
  },
  {
   "cell_type": "code",
   "execution_count": 6,
   "id": "63b06d6d-08a0-4798-a8e8-9ca9720ecd80",
   "metadata": {},
   "outputs": [],
   "source": [
    "set_obs_column(ad1, \"testing\", \"It's a me - Mario!\")"
   ]
  },
  {
   "cell_type": "code",
   "execution_count": 7,
   "id": "2b36d353-19ad-4c1f-bc82-9906e495f026",
   "metadata": {},
   "outputs": [
    {
     "data": {
      "text/plain": [
       "AnnData object with n_obs × n_vars = 11379 × 41\n",
       "    obs: 'sample', 'n_genes_by_counts', 'total_counts', 'total_counts_isotype', 'pct_counts_isotype', 'n_counts', 'mIgG1_ctrl percentile', 'mIgG2a_ctrl percentile', 'mIgG2b_ctrl percentile', 'testing'\n",
       "    var: 'isotype', 'n_cells_by_counts', 'mean_counts', 'pct_dropout_by_counts', 'total_counts'\n",
       "    layers: 'counts'"
      ]
     },
     "execution_count": 7,
     "metadata": {},
     "output_type": "execute_result"
    }
   ],
   "source": [
    "ad1"
   ]
  },
  {
   "cell_type": "code",
   "execution_count": 8,
   "id": "1fb0f514-c5c5-4825-a8bb-705529beab08",
   "metadata": {},
   "outputs": [
    {
     "data": {
      "text/plain": [
       "AAACAACGAACAGGTG    It's a me - Mario!\n",
       "AAACAACGACCAAACT    It's a me - Mario!\n",
       "AAACAACGACGACATT    It's a me - Mario!\n",
       "AAACAACGACGGCACT    It's a me - Mario!\n",
       "AAACAACGACGTAACT    It's a me - Mario!\n",
       "                           ...        \n",
       "TTTGGGATGCGACACC    It's a me - Mario!\n",
       "TTTGGGATGCGAGTTT    It's a me - Mario!\n",
       "TTTGGGATGTCATTTC    It's a me - Mario!\n",
       "TTTGGGATGTCTGGAT    It's a me - Mario!\n",
       "TTTGGGATGTGCTTGA    It's a me - Mario!\n",
       "Name: testing, Length: 11379, dtype: object"
      ]
     },
     "execution_count": 8,
     "metadata": {},
     "output_type": "execute_result"
    }
   ],
   "source": [
    "ad1.obs[\"testing\"]"
   ]
  },
  {
   "cell_type": "code",
   "execution_count": 10,
   "id": "e91480fd-13e6-436b-8103-d9d44c06dc36",
   "metadata": {},
   "outputs": [
    {
     "data": {
      "text/plain": [
       "array([[ 1.17447014,  4.15106119,  1.45669472, ...,  1.00043276,\n",
       "         0.32563624,  1.09343856],\n",
       "       [ 0.6614905 ,  3.43101051,  2.75121539, ...,  0.3551077 ,\n",
       "         0.80817449,  0.64356698],\n",
       "       [ 0.23842281,  0.97203743,  0.90169522, ...,  0.76826811,\n",
       "         0.51317608,  0.5080879 ],\n",
       "       ...,\n",
       "       [ 0.49330092,  3.22749135,  0.38322272, ...,  0.68965131,\n",
       "         0.76105853,  0.23470978],\n",
       "       [ 0.09137843,  0.93365015,  0.69785775, ...,  0.56851949,\n",
       "         0.51740953,  0.53745851],\n",
       "       [-0.21623986,  0.57125878,  1.14253993, ..., -0.38079973,\n",
       "         0.24728347,  0.46116672]])"
      ]
     },
     "execution_count": 10,
     "metadata": {},
     "output_type": "execute_result"
    }
   ],
   "source": [
    "ad1.X"
   ]
  }
 ],
 "metadata": {
  "kernelspec": {
   "display_name": "Python 3 (ipykernel)",
   "language": "python",
   "name": "python3"
  },
  "language_info": {
   "codemirror_mode": {
    "name": "ipython",
    "version": 3
   },
   "file_extension": ".py",
   "mimetype": "text/x-python",
   "name": "python",
   "nbconvert_exporter": "python",
   "pygments_lexer": "ipython3",
   "version": "3.10.12"
  }
 },
 "nbformat": 4,
 "nbformat_minor": 5
}
